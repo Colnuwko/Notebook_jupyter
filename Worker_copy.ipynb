{
 "cells": [
  {
   "attachments": {},
   "cell_type": "markdown",
   "metadata": {},
   "source": [
    "Импортируем библиотеки"
   ]
  },
  {
   "cell_type": "code",
   "execution_count": 17,
   "metadata": {},
   "outputs": [],
   "source": [
    "\n",
    "import pandas as pd\n",
    "from tqdm import trange\n",
    "import pymorphy2\n",
    "import matplotlib.pyplot as plt\n",
    "\n",
    "import iterator"
   ]
  },
  {
   "attachments": {},
   "cell_type": "markdown",
   "metadata": {},
   "source": [
    "С использованием средств библиотеки Pandas прочитать все данные (в DataFrame будет несколько столбцов, в зависимости от варианта, например, у варианта 10 - Количество звезд, Текст рецензии).\n",
    "\n",
    "Создаем функции для создания таблицы, и чтения файла для ее заполнения."
   ]
  },
  {
   "cell_type": "code",
   "execution_count": 18,
   "metadata": {},
   "outputs": [],
   "source": [
    "def create_table()-> pd.DataFrame:\n",
    "    \"\"\"create a df\"\"\"\n",
    "    number_star = []\n",
    "    text_opinion = []\n",
    "    for i in range(1,6):\n",
    "        iterator_work = iterator.Iterator(\"test_csv.csv\", i)\n",
    "        for j in trange(len(iterator.Iterator(\"test_csv.csv\", i).list)):\n",
    "            number_star.append(i)\n",
    "            text_opinion.append(read_file(iterator.Iterator(\"test_csv.csv\", i).list[j]))\n",
    "    df = pd.DataFrame({\n",
    "    'star': number_star,\n",
    "    'text': text_opinion})\n",
    "    return df\n",
    "\n",
    "\n",
    "def read_file(elem: str)->str:\n",
    "    \"\"\"\"reading a data from csv\"\"\"\n",
    "    if elem != \"['absolut path,relative path,quote']\":\n",
    "        directory = str(elem).split(\",\")\n",
    "        #print(len(directory))\n",
    "        if len(directory) == 3:\n",
    "            with open(directory[1], \"r\",encoding=\"utf-8\") as f:\n",
    "                text = f.read()\n",
    "            \n",
    "            return text     \n",
    "    return None"
   ]
  },
  {
   "attachments": {},
   "cell_type": "markdown",
   "metadata": {},
   "source": [
    "Собственно запускаем это все дело"
   ]
  },
  {
   "cell_type": "code",
   "execution_count": 19,
   "metadata": {},
   "outputs": [
    {
     "name": "stderr",
     "output_type": "stream",
     "text": [
      "100%|██████████| 999/999 [00:09<00:00, 106.03it/s]\n",
      "100%|██████████| 999/999 [00:09<00:00, 105.40it/s]\n",
      "100%|██████████| 999/999 [00:09<00:00, 110.01it/s]\n",
      "100%|██████████| 999/999 [00:09<00:00, 109.08it/s]\n",
      "100%|██████████| 999/999 [00:09<00:00, 108.15it/s]\n"
     ]
    }
   ],
   "source": [
    "df=create_table()\n"
   ]
  },
  {
   "attachments": {},
   "cell_type": "markdown",
   "metadata": {},
   "source": [
    "Произвести проверку на наличие невалидных значений в колонках (NaN, None и т.п.). В случае нахождения выполнить обработку таких значений.\n",
    "\n",
    "Функция проверки таблицы на пустые ячейки, удаляем строку если ячейка пустая"
   ]
  },
  {
   "cell_type": "code",
   "execution_count": 20,
   "metadata": {},
   "outputs": [],
   "source": [
    "def check_table(df:pd.DataFrame)->pd.DataFrame:\n",
    "    \"\"\"check table to correct value\"\"\"\n",
    "    df=df.dropna()\n",
    "    print(df.info())\n",
    "    return df"
   ]
  },
  {
   "cell_type": "code",
   "execution_count": 21,
   "metadata": {},
   "outputs": [
    {
     "name": "stdout",
     "output_type": "stream",
     "text": [
      "<class 'pandas.core.frame.DataFrame'>\n",
      "RangeIndex: 4995 entries, 0 to 4994\n",
      "Data columns (total 2 columns):\n",
      " #   Column  Non-Null Count  Dtype \n",
      "---  ------  --------------  ----- \n",
      " 0   star    4995 non-null   int64 \n",
      " 1   text    4995 non-null   object\n",
      "dtypes: int64(1), object(1)\n",
      "memory usage: 78.2+ KB\n",
      "None\n"
     ]
    }
   ],
   "source": [
    "df=check_table(df)"
   ]
  },
  {
   "attachments": {},
   "cell_type": "markdown",
   "metadata": {},
   "source": [
    "Добавить в DataFrame столбец, который будет содержать информацию о кол-ве слов в ячейке, содержащей текстовую информацию.\n",
    "\n",
    "Добавляем в нашу таблицу еще одну колонку с длиной отзыва, и заполняем ее"
   ]
  },
  {
   "cell_type": "code",
   "execution_count": 22,
   "metadata": {},
   "outputs": [],
   "source": [
    "def add_column(df)-> pd.DataFrame:\n",
    "    \"\"\"add_column in df \"\"\"\n",
    "    print(\"add_column\")\n",
    "    number_symbols_text = []\n",
    "    for i in trange(len(df)):\n",
    "        number_symbols_text.append(len(df.text[i]))\n",
    "\n",
    "    df.insert(2, \"len_text\", number_symbols_text, False)\n",
    "    return df\n",
    "    "
   ]
  },
  {
   "cell_type": "code",
   "execution_count": 23,
   "metadata": {},
   "outputs": [
    {
     "name": "stdout",
     "output_type": "stream",
     "text": [
      "add_column\n"
     ]
    },
    {
     "name": "stderr",
     "output_type": "stream",
     "text": [
      "100%|██████████| 4995/4995 [00:00<00:00, 104276.20it/s]\n"
     ]
    }
   ],
   "source": [
    "df=add_column(df)"
   ]
  },
  {
   "attachments": {},
   "cell_type": "markdown",
   "metadata": {},
   "source": [
    "\n",
    "С использованием Pandas вычислить статистическую информацию для столбцов, содержащих числовую информацию."
   ]
  },
  {
   "cell_type": "code",
   "execution_count": 24,
   "metadata": {},
   "outputs": [],
   "source": [
    "def statistic(df: pd.DataFrame)-> None:\n",
    "    \"\"\"statistic in star\"\"\"\n",
    "    print(df.describe())\n",
    "    "
   ]
  },
  {
   "cell_type": "code",
   "execution_count": 25,
   "metadata": {},
   "outputs": [
    {
     "name": "stdout",
     "output_type": "stream",
     "text": [
      "              star      len_text\n",
      "count  4995.000000   4995.000000\n",
      "mean      3.000000   1137.157558\n",
      "std       1.414355   1000.543351\n",
      "min       1.000000     20.000000\n",
      "25%       2.000000    739.000000\n",
      "50%       3.000000    822.000000\n",
      "75%       4.000000   1337.000000\n",
      "max       5.000000  14764.000000\n"
     ]
    }
   ],
   "source": [
    "statistic(df)\n"
   ]
  },
  {
   "attachments": {},
   "cell_type": "markdown",
   "metadata": {},
   "source": [
    "Написать функцию, которая на вход принимает DataFrame и количество слов, а возвращает отфильтрованный по количеству слов DataFrame. Условие фильтрации - в новый DataFrame включаются те строки, для которых значение в столбце с количеством слов  ≤  заданного значения.\n",
    "\n",
    "Сортуруем таблицу по количеству слов"
   ]
  },
  {
   "cell_type": "code",
   "execution_count": 26,
   "metadata": {},
   "outputs": [],
   "source": [
    "def sorted_table(df: pd.DataFrame,count_words: int)->None:\n",
    "    \"\"\"sorted_tabel on width words\"\"\"\n",
    "    return df[df['len_text'] > count_words][['star', 'text','len_text']]\n"
   ]
  },
  {
   "cell_type": "code",
   "execution_count": 27,
   "metadata": {},
   "outputs": [
    {
     "data": {
      "text/html": [
       "<div>\n",
       "<style scoped>\n",
       "    .dataframe tbody tr th:only-of-type {\n",
       "        vertical-align: middle;\n",
       "    }\n",
       "\n",
       "    .dataframe tbody tr th {\n",
       "        vertical-align: top;\n",
       "    }\n",
       "\n",
       "    .dataframe thead th {\n",
       "        text-align: right;\n",
       "    }\n",
       "</style>\n",
       "<table border=\"1\" class=\"dataframe\">\n",
       "  <thead>\n",
       "    <tr style=\"text-align: right;\">\n",
       "      <th></th>\n",
       "      <th>star</th>\n",
       "      <th>text</th>\n",
       "      <th>len_text</th>\n",
       "    </tr>\n",
       "  </thead>\n",
       "  <tbody>\n",
       "    <tr>\n",
       "      <th>72</th>\n",
       "      <td>1</td>\n",
       "      <td>Оценка: 1.0\\nНазвание: Уничтожить королевство\\...</td>\n",
       "      <td>12159</td>\n",
       "    </tr>\n",
       "    <tr>\n",
       "      <th>3287</th>\n",
       "      <td>4</td>\n",
       "      <td>Оценка: 4.0\\nНазвание: Шестерка Атласа\\nАвтор ...</td>\n",
       "      <td>14764</td>\n",
       "    </tr>\n",
       "    <tr>\n",
       "      <th>4027</th>\n",
       "      <td>5</td>\n",
       "      <td>Оценка: 5.0\\nНазвание: Брак по расчету. Златок...</td>\n",
       "      <td>13591</td>\n",
       "    </tr>\n",
       "    <tr>\n",
       "      <th>4029</th>\n",
       "      <td>5</td>\n",
       "      <td>Оценка: 5.0\\nНазвание: Брак по расчету. Златок...</td>\n",
       "      <td>13591</td>\n",
       "    </tr>\n",
       "    <tr>\n",
       "      <th>4124</th>\n",
       "      <td>5</td>\n",
       "      <td>Оценка: 5.0\\nНазвание: Брак по расчету. Златок...</td>\n",
       "      <td>13591</td>\n",
       "    </tr>\n",
       "    <tr>\n",
       "      <th>4576</th>\n",
       "      <td>5</td>\n",
       "      <td>Оценка: 5.0\\nНазвание: Чагин\\nАвтор книги: Евг...</td>\n",
       "      <td>12743</td>\n",
       "    </tr>\n",
       "  </tbody>\n",
       "</table>\n",
       "</div>"
      ],
      "text/plain": [
       "      star                                               text  len_text\n",
       "72       1  Оценка: 1.0\\nНазвание: Уничтожить королевство\\...     12159\n",
       "3287     4  Оценка: 4.0\\nНазвание: Шестерка Атласа\\nАвтор ...     14764\n",
       "4027     5  Оценка: 5.0\\nНазвание: Брак по расчету. Златок...     13591\n",
       "4029     5  Оценка: 5.0\\nНазвание: Брак по расчету. Златок...     13591\n",
       "4124     5  Оценка: 5.0\\nНазвание: Брак по расчету. Златок...     13591\n",
       "4576     5  Оценка: 5.0\\nНазвание: Чагин\\nАвтор книги: Евг...     12743"
      ]
     },
     "execution_count": 27,
     "metadata": {},
     "output_type": "execute_result"
    }
   ],
   "source": [
    "sorted_table(df,10000)"
   ]
  },
  {
   "attachments": {},
   "cell_type": "markdown",
   "metadata": {},
   "source": [
    "Написать функцию, которая на вход принимает DataFrame и метку класса (например, Количество звезд), а возвращает отфильтрованный по заданной метке DataFrame.\n",
    "\n",
    "Сортируем по звездам"
   ]
  },
  {
   "cell_type": "code",
   "execution_count": 28,
   "metadata": {},
   "outputs": [],
   "source": [
    "def table_star(df: pd.DataFrame, number_star: int)->None:\n",
    "    \"\"\"Sorted table\"\"\"\n",
    "    return df[df['star']==number_star]"
   ]
  },
  {
   "cell_type": "code",
   "execution_count": 29,
   "metadata": {},
   "outputs": [
    {
     "data": {
      "text/html": [
       "<div>\n",
       "<style scoped>\n",
       "    .dataframe tbody tr th:only-of-type {\n",
       "        vertical-align: middle;\n",
       "    }\n",
       "\n",
       "    .dataframe tbody tr th {\n",
       "        vertical-align: top;\n",
       "    }\n",
       "\n",
       "    .dataframe thead th {\n",
       "        text-align: right;\n",
       "    }\n",
       "</style>\n",
       "<table border=\"1\" class=\"dataframe\">\n",
       "  <thead>\n",
       "    <tr style=\"text-align: right;\">\n",
       "      <th></th>\n",
       "      <th>star</th>\n",
       "      <th>text</th>\n",
       "      <th>len_text</th>\n",
       "    </tr>\n",
       "  </thead>\n",
       "  <tbody>\n",
       "    <tr>\n",
       "      <th>2997</th>\n",
       "      <td>4</td>\n",
       "      <td>Оценка: 4.0\\nНазвание: Клуб самоубийц. Алмаз Р...</td>\n",
       "      <td>784</td>\n",
       "    </tr>\n",
       "    <tr>\n",
       "      <th>2998</th>\n",
       "      <td>4</td>\n",
       "      <td>Оценка: 3.5\\nНазвание: Ведьма огненного ветра\\...</td>\n",
       "      <td>201</td>\n",
       "    </tr>\n",
       "    <tr>\n",
       "      <th>2999</th>\n",
       "      <td>4</td>\n",
       "      <td>Оценка: 3.5\\nНазвание: Моя темная королева\\nАв...</td>\n",
       "      <td>1032</td>\n",
       "    </tr>\n",
       "    <tr>\n",
       "      <th>3000</th>\n",
       "      <td>4</td>\n",
       "      <td>Оценка: 3.5\\nНазвание: Мидлмарч\\nАвтор книги: ...</td>\n",
       "      <td>3028</td>\n",
       "    </tr>\n",
       "    <tr>\n",
       "      <th>3001</th>\n",
       "      <td>4</td>\n",
       "      <td>Оценка: 4.0\\nНазвание: Мрачный Вторник\\nАвтор ...</td>\n",
       "      <td>975</td>\n",
       "    </tr>\n",
       "    <tr>\n",
       "      <th>...</th>\n",
       "      <td>...</td>\n",
       "      <td>...</td>\n",
       "      <td>...</td>\n",
       "    </tr>\n",
       "    <tr>\n",
       "      <th>3991</th>\n",
       "      <td>4</td>\n",
       "      <td>Жизнь, которая не стала моей\\n\\n\\n\\nКейт 40 ле...</td>\n",
       "      <td>831</td>\n",
       "    </tr>\n",
       "    <tr>\n",
       "      <th>3992</th>\n",
       "      <td>4</td>\n",
       "      <td>Нелюбимая дочь. Как оставить в прошлом травмат...</td>\n",
       "      <td>895</td>\n",
       "    </tr>\n",
       "    <tr>\n",
       "      <th>3993</th>\n",
       "      <td>4</td>\n",
       "      <td>Дочь костяных осколков\\n\\n\\n\\nЗахотелось мне ч...</td>\n",
       "      <td>819</td>\n",
       "    </tr>\n",
       "    <tr>\n",
       "      <th>3994</th>\n",
       "      <td>4</td>\n",
       "      <td>Высоцкий\\n\\n\\n\\nВладимир Высоцкий наверное еди...</td>\n",
       "      <td>809</td>\n",
       "    </tr>\n",
       "    <tr>\n",
       "      <th>3995</th>\n",
       "      <td>4</td>\n",
       "      <td>Обманутая\\n\\n\\n\\nДетективы я люблю , обычно пр...</td>\n",
       "      <td>813</td>\n",
       "    </tr>\n",
       "  </tbody>\n",
       "</table>\n",
       "<p>999 rows × 3 columns</p>\n",
       "</div>"
      ],
      "text/plain": [
       "      star                                               text  len_text\n",
       "2997     4  Оценка: 4.0\\nНазвание: Клуб самоубийц. Алмаз Р...       784\n",
       "2998     4  Оценка: 3.5\\nНазвание: Ведьма огненного ветра\\...       201\n",
       "2999     4  Оценка: 3.5\\nНазвание: Моя темная королева\\nАв...      1032\n",
       "3000     4  Оценка: 3.5\\nНазвание: Мидлмарч\\nАвтор книги: ...      3028\n",
       "3001     4  Оценка: 4.0\\nНазвание: Мрачный Вторник\\nАвтор ...       975\n",
       "...    ...                                                ...       ...\n",
       "3991     4  Жизнь, которая не стала моей\\n\\n\\n\\nКейт 40 ле...       831\n",
       "3992     4  Нелюбимая дочь. Как оставить в прошлом травмат...       895\n",
       "3993     4  Дочь костяных осколков\\n\\n\\n\\nЗахотелось мне ч...       819\n",
       "3994     4  Высоцкий\\n\\n\\n\\nВладимир Высоцкий наверное еди...       809\n",
       "3995     4  Обманутая\\n\\n\\n\\nДетективы я люблю , обычно пр...       813\n",
       "\n",
       "[999 rows x 3 columns]"
      ]
     },
     "execution_count": 29,
     "metadata": {},
     "output_type": "execute_result"
    }
   ],
   "source": [
    "table_star(df,4)"
   ]
  },
  {
   "attachments": {},
   "cell_type": "markdown",
   "metadata": {},
   "source": [
    "Выполнить группировку DataFrame по метке класса с вычислением максимального, минимального и среднего значения по количеству слов."
   ]
  },
  {
   "cell_type": "code",
   "execution_count": 30,
   "metadata": {},
   "outputs": [],
   "source": [
    "def table_star_statistic(df: pd.DataFrame, number_star: int) -> None:\n",
    "    \"\"\"print df where star== number_star\"\"\"\n",
    "    df = df[df[\"star\"] == number_star]\n",
    "    print(df)\n",
    "    print(\n",
    "        \"кол-во слов:\\nmin: \" + str(df[\"len_text\"].min()) + \"\\nmean: \" + str(df[\"len_text\"].mean()) + \"\\nmax: \" + str(df[\"len_text\"].max())\n",
    "        )"
   ]
  },
  {
   "cell_type": "code",
   "execution_count": 31,
   "metadata": {},
   "outputs": [
    {
     "name": "stdout",
     "output_type": "stream",
     "text": [
      "      star                                               text  len_text\n",
      "3996     5  Оценка: 4.5\\nНазвание: Волков. Исцеление любов...       737\n",
      "3997     5  Оценка: 5.0\\nНазвание: Год великого перелома\\n...       159\n",
      "3998     5  Оценка: 5.0\\nНазвание: По ту сторону жизни\\nАв...      3128\n",
      "3999     5  Оценка: 5.0\\nНазвание: Дарители. Короли будуще...      1285\n",
      "4000     5  Оценка: 5.0\\nНазвание: Культ\\nАвтор книги: Эбб...       897\n",
      "...    ...                                                ...       ...\n",
      "4990     5  Оценка: 5.0\\nНазвание: Дочка для владельца Имп...      1525\n",
      "4991     5  Оценка: 4.5\\nНазвание: Средство Макропулоса\\nА...      2356\n",
      "4992     5  Оценка: 4.5\\nНазвание: На Западном фронте без ...      1282\n",
      "4993     5  Оценка: 4.5\\nНазвание: Суррогатная мать\\nАвтор...      1061\n",
      "4994     5  Оценка: 5.0\\nНазвание: Село Степанчиково и его...      1683\n",
      "\n",
      "[999 rows x 3 columns]\n",
      "кол-во слов:\n",
      "min: 91\n",
      "mean: 1591.3463463463463\n",
      "max: 13591\n"
     ]
    }
   ],
   "source": [
    "table_star_statistic(df, 5)\n"
   ]
  },
  {
   "attachments": {},
   "cell_type": "markdown",
   "metadata": {},
   "source": [
    "Написать функцию, которая на вход принимает DataFrame и метку класса, а возвращает гистограмму для слов. Для расчета гистограммы необходимо будет разбить блоки текста на слова и выполнить процедуру лемматизации для каждого слова (используя библиотеку nltk)."
   ]
  },
  {
   "cell_type": "code",
   "execution_count": 32,
   "metadata": {},
   "outputs": [],
   "source": [
    "def create_hist(df: pd.DataFrame, number_star: int) -> list:\n",
    "    \"\"\"Lemitization and counter words\"\"\"\n",
    "    words = []  # для леминитизированных слов\n",
    "    lonely_words_count = []  # для подсчета вхождений каждого слова\n",
    "    morph = pymorphy2.MorphAnalyzer()\n",
    "    print(\"Обрабатываем кол-во слов\")\n",
    "    for i in trange(len(df[df[\"star\"] == number_star])):\n",
    "        words_list = (df.text[i]).split()  # разбиваем текст на слова\n",
    "        for word in words_list:\n",
    "            p = morph.parse(word)[0]\n",
    "            words.append(p.normal_form)\n",
    "\n",
    "    lonely_words = list(set(words))  # слова без повторений\n",
    "    for element in lonely_words:\n",
    "        lonely_words_count.append(words.count(element))\n",
    "    book = dict(zip(lonely_words_count, lonely_words))\n",
    "    return sorted(book.items())  # вернем остортированный  словарь\n",
    "    "
   ]
  },
  {
   "cell_type": "code",
   "execution_count": 33,
   "metadata": {},
   "outputs": [
    {
     "name": "stdout",
     "output_type": "stream",
     "text": [
      "Обрабатываем кол-во слов\n"
     ]
    },
    {
     "name": "stderr",
     "output_type": "stream",
     "text": [
      "100%|██████████| 999/999 [00:23<00:00, 43.26it/s]\n"
     ]
    }
   ],
   "source": [
    "hist_info = create_hist(df, 4)"
   ]
  },
  {
   "attachments": {},
   "cell_type": "markdown",
   "metadata": {},
   "source": [
    "Выполнить визуализацию гистограммы, полученной из пункта 9, с помощью средств библиотеки matplotlib. Соответствующие оси, графики и значения необходимо подписать.\n"
   ]
  },
  {
   "cell_type": "code",
   "execution_count": 50,
   "metadata": {},
   "outputs": [],
   "source": [
    "def print_histogram(hist_info: dict) -> None:\n",
    "    \"\"\"print histogram on based dict\"\"\"\n",
    "    plt.title(\"Популярность слов:\")\n",
    "    plt.xlabel(\"Слова\")\n",
    "    plt.ylabel(\"количество использований\")\n",
    "    plt.grid(True)\n",
    "    plt.bar(hist_info.values(), hist_info.keys())\n",
    "    plt.show()"
   ]
  },
  {
   "cell_type": "code",
   "execution_count": 51,
   "metadata": {},
   "outputs": [
    {
     "data": {
      "image/png": "[encoded data removed]",
      "text/plain": [
       "<Figure size 640x480 with 1 Axes>"
      ]
     },
     "metadata": {},
     "output_type": "display_data"
    }
   ],
   "source": [
    "print_histogram(dict(hist_info[-12:]))  "
   ]
  }
 ],
 "metadata": {
  "kernelspec": {
   "display_name": "base",
   "language": "python",
   "name": "python3"
  },
  "language_info": {
   "codemirror_mode": {
    "name": "ipython",
    "version": 3
   },
   "file_extension": ".py",
   "mimetype": "text/x-python",
   "name": "python",
   "nbconvert_exporter": "python",
   "pygments_lexer": "ipython3",
   "version": "3.9.13"
  },
  "orig_nbformat": 4,
  "vscode": {
   "interpreter": {
    "hash": "ad2bdc8ecc057115af97d19610ffacc2b4e99fae6737bb82f5d7fb13d2f2c186"
   }
  }
 },
 "nbformat": 4,
 "nbformat_minor": 2
}
